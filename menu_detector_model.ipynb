{
  "nbformat": 4,
  "nbformat_minor": 0,
  "metadata": {
    "colab": {
      "provenance": [],
      "authorship_tag": "ABX9TyPfugGasqlyIc8sqefUJmlS",
      "include_colab_link": true
    },
    "kernelspec": {
      "name": "python3",
      "display_name": "Python 3"
    },
    "language_info": {
      "name": "python"
    }
  },
  "cells": [
    {
      "cell_type": "markdown",
      "metadata": {
        "id": "view-in-github",
        "colab_type": "text"
      },
      "source": [
        "<a href=\"https://colab.research.google.com/github/ismoil27/computer_vision/blob/main/menu_detector_model.ipynb\" target=\"_parent\"><img src=\"https://colab.research.google.com/assets/colab-badge.svg\" alt=\"Open In Colab\"/></a>"
      ]
    },
    {
      "cell_type": "code",
      "execution_count": null,
      "metadata": {
        "colab": {
          "base_uri": "https://localhost:8080/"
        },
        "id": "LKMguGD5l79T",
        "outputId": "09c3be4b-9bab-44cc-f3fc-f58e7bd8713d"
      },
      "outputs": [
        {
          "output_type": "stream",
          "name": "stdout",
          "text": [
            "Menu Detector!\n"
          ]
        }
      ],
      "source": [
        "print('Menu Detector!')"
      ]
    },
    {
      "cell_type": "code",
      "source": [
        "# -------------------------\n",
        "# Import Libraries\n",
        "# -------------------------\n",
        "from google.colab import drive"
      ],
      "metadata": {
        "id": "RKkChIFH-MLI"
      },
      "execution_count": 2,
      "outputs": []
    },
    {
      "cell_type": "code",
      "source": [
        "drive.mount('/content/drive')"
      ],
      "metadata": {
        "colab": {
          "base_uri": "https://localhost:8080/"
        },
        "id": "6Mbcvbyj_WCB",
        "outputId": "5cd2c2a9-6ceb-4344-a35b-739c7b6afe21"
      },
      "execution_count": 3,
      "outputs": [
        {
          "output_type": "stream",
          "name": "stdout",
          "text": [
            "Mounted at /content/drive\n"
          ]
        }
      ]
    },
    {
      "cell_type": "code",
      "source": [
        "# Define Dataset Path\n",
        "\n",
        "DATASET_PATH = '/content/drive/MyDrive/food101_dataset'\n",
        "print('Dataset_path:', DATASET_PATH)\n",
        "\n",
        "\n",
        "\n",
        "CUSTOM_CLASS_MAPPING = {\n",
        "    \"hamburger\": \"hamburger\",\n",
        "    \"hot_dog\": \"hot_dog\",\n",
        "    \"chocolate_cake\": \"dessert\", # label grouping | class consolidation\n",
        "    \"cheesecake\": \"dessert\",     # label grouping | class consolidation\n",
        "    \"kebab\": \"kebab\",\n",
        "    \"pilaf\": \"pilaf\"\n",
        "}\n",
        "\n",
        "\n",
        "\n",
        "CLASSES = ['hamburger', 'hot_dog', 'dessert', 'kebab', 'pilaf']\n",
        "CLASS_TO_IDX = {cls: i for i, cls in enumerate(CLASSES)}\n",
        "NUM_CLASSES = len(CLASSES)\n",
        "\n",
        "print(NUM_CLASSES)\n",
        "print(CLASS_TO_IDX)\n"
      ],
      "metadata": {
        "colab": {
          "base_uri": "https://localhost:8080/"
        },
        "id": "WXf_dcqf_0F2",
        "outputId": "1ec224eb-1ac7-4090-beb1-103314f920b3"
      },
      "execution_count": 8,
      "outputs": [
        {
          "output_type": "stream",
          "name": "stdout",
          "text": [
            "Dataset_path: /content/drive/MyDrive/food101_dataset\n",
            "5\n",
            "{'hamburger': 0, 'hot_dog': 1, 'dessert': 2, 'kebab': 3, 'pilaf': 4}\n"
          ]
        }
      ]
    }
  ]
}